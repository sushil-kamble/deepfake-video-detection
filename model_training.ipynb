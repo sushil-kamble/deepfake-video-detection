{
 "cells": [
  {
   "cell_type": "code",
   "execution_count": 30,
   "metadata": {},
   "outputs": [],
   "source": [
    "import numpy as np\n",
    "import cv2\n",
    "\n",
    "import PIL.Image as Image\n",
    "import os\n",
    "\n",
    "import matplotlib.pylab as plt\n",
    "\n",
    "import tensorflow as tf\n",
    "\n",
    "from tensorflow import keras\n",
    "from tensorflow.keras import layers\n",
    "from tensorflow.keras.models import Sequential\n",
    "\n",
    "import glob\n",
    "import numpy as np\n",
    "import pandas as pd\n",
    "import os\n",
    "import shutil \n",
    "import matplotlib.pyplot as plt\n",
    "from keras.preprocessing.image import ImageDataGenerator, load_img, img_to_array, array_to_img\n",
    "from sklearn.preprocessing import LabelEncoder \n",
    "# for keras\n",
    "from classification_models.keras import Classifiers\n",
    "\n",
    "# for tensorflow keras\n",
    "from classification_models.tfkeras import Classifiers\n",
    "%matplotlib inline"
   ]
  },
  {
   "cell_type": "code",
   "execution_count": 31,
   "metadata": {},
   "outputs": [],
   "source": [
    "IMG_WIDTH=300\n",
    "IMG_HEIGHT=300\n",
    "IMG_DIM = (IMG_WIDTH, IMG_HEIGHT)"
   ]
  },
  {
   "cell_type": "code",
   "execution_count": 32,
   "metadata": {},
   "outputs": [],
   "source": [
    "train_files = glob.glob('D:\\deepfake_detection\\datasets\\\\frames\\*')\n",
    "\n",
    "validation_files = glob.glob('D:\\deepfake_detection\\datasets\\\\validation_data\\*')\n",
    "\n",
    "test_files = glob.glob('D:\\deepfake_detection\\datasets\\\\testing_data\\*')\n",
    "test_imgs = [img_to_array(load_img(img, target_size=IMG_DIM)) for img in test_files]\n",
    "test_imgs = np.array(test_imgs)"
   ]
  },
  {
   "cell_type": "code",
   "execution_count": 33,
   "metadata": {},
   "outputs": [
    {
     "data": {
      "text/plain": [
       "(5473, 207, 208)"
      ]
     },
     "execution_count": 33,
     "metadata": {},
     "output_type": "execute_result"
    }
   ],
   "source": [
    "len(train_files), len(validation_files), len(test_files)"
   ]
  },
  {
   "cell_type": "markdown",
   "metadata": {},
   "source": [
    "## For Labels"
   ]
  },
  {
   "cell_type": "code",
   "execution_count": 34,
   "metadata": {},
   "outputs": [],
   "source": [
    "labels = pd.read_csv('D:\\deepfake_detection\\datasets\\out.csv', index_col=0)\n",
    "# labels.loc['aagfhgtpmv_1.jpg'][0]"
   ]
  },
  {
   "cell_type": "code",
   "execution_count": 35,
   "metadata": {},
   "outputs": [
    {
     "data": {
      "text/html": [
       "<div>\n",
       "<style scoped>\n",
       "    .dataframe tbody tr th:only-of-type {\n",
       "        vertical-align: middle;\n",
       "    }\n",
       "\n",
       "    .dataframe tbody tr th {\n",
       "        vertical-align: top;\n",
       "    }\n",
       "\n",
       "    .dataframe thead th {\n",
       "        text-align: right;\n",
       "    }\n",
       "</style>\n",
       "<table border=\"1\" class=\"dataframe\">\n",
       "  <thead>\n",
       "    <tr style=\"text-align: right;\">\n",
       "      <th></th>\n",
       "      <th>label</th>\n",
       "    </tr>\n",
       "    <tr>\n",
       "      <th>Images</th>\n",
       "      <th></th>\n",
       "    </tr>\n",
       "  </thead>\n",
       "  <tbody>\n",
       "    <tr>\n",
       "      <th>aagfhgtpmv_1.jpg</th>\n",
       "      <td>FAKE</td>\n",
       "    </tr>\n",
       "    <tr>\n",
       "      <th>aagfhgtpmv_10.jpg</th>\n",
       "      <td>FAKE</td>\n",
       "    </tr>\n",
       "  </tbody>\n",
       "</table>\n",
       "</div>"
      ],
      "text/plain": [
       "                  label\n",
       "Images                 \n",
       "aagfhgtpmv_1.jpg   FAKE\n",
       "aagfhgtpmv_10.jpg  FAKE"
      ]
     },
     "execution_count": 35,
     "metadata": {},
     "output_type": "execute_result"
    }
   ],
   "source": [
    "labels.head(2)"
   ]
  },
  {
   "cell_type": "code",
   "execution_count": 36,
   "metadata": {},
   "outputs": [
    {
     "data": {
      "text/plain": [
       "(1755, 439)"
      ]
     },
     "execution_count": 36,
     "metadata": {},
     "output_type": "execute_result"
    }
   ],
   "source": [
    "train_labels = []\n",
    "train_real = []\n",
    "train_fake = []\n",
    "for img in train_files:\n",
    "    file_name = os.path.basename(img)\n",
    "    try:\n",
    "        label = labels.loc[file_name][0]\n",
    "    except:\n",
    "        continue\n",
    "    if label == 'REAL':\n",
    "        train_real.append((file_name, label))\n",
    "    else:\n",
    "        train_fake.append((file_name, label))\n",
    "    train_labels.append(label)\n",
    "\n",
    "real_count = len(train_real)\n",
    "train_fake = train_fake[:real_count]\n",
    "train_data = train_real + train_fake\n",
    "train_df = pd.DataFrame(train_data, columns=['file_name', 'label'])\n",
    "train_df.set_index('file_name', inplace=True)\n",
    "labelencoder = LabelEncoder()\n",
    "train_df['label'] = labelencoder.fit_transform(train_df['label'])\n",
    "\n",
    "df_train = train_df.sample(frac = 0.80)\n",
    "df_validation = train_df.drop(df_train.index)\n",
    "\n",
    "train_imgs = [img_to_array(load_img('D:\\deepfake_detection\\datasets\\\\frames\\\\'+img, target_size=IMG_DIM)) for img in df_train.index]\n",
    "train_imgs = np.array(train_imgs)\n",
    "validation_imgs = [img_to_array(load_img('D:\\deepfake_detection\\datasets\\\\frames\\\\'+img, target_size=IMG_DIM)) for img in df_validation.index]\n",
    "validation_imgs = np.array(validation_imgs)\n",
    "len(train_imgs), len(validation_imgs)"
   ]
  },
  {
   "cell_type": "code",
   "execution_count": 37,
   "metadata": {},
   "outputs": [
    {
     "data": {
      "text/plain": [
       "1    1097\n",
       "0    1097\n",
       "Name: label, dtype: int64"
      ]
     },
     "execution_count": 37,
     "metadata": {},
     "output_type": "execute_result"
    }
   ],
   "source": [
    "train_df.label.value_counts()"
   ]
  },
  {
   "cell_type": "code",
   "execution_count": 38,
   "metadata": {},
   "outputs": [],
   "source": [
    "train_datagen = ImageDataGenerator(rescale=1./255, zoom_range=0.3, rotation_range=50,\n",
    " width_shift_range=0.2, height_shift_range=0.2, shear_range=0.2, \n",
    " horizontal_flip=True, fill_mode='nearest')\n",
    "val_datagen = ImageDataGenerator(rescale=1./255)\n",
    "test_datagen = ImageDataGenerator(rescale=1./255)\n",
    "\n",
    "train_generator = train_datagen.flow(train_imgs, df_train['label'], batch_size=30)\n",
    "val_generator = val_datagen.flow(validation_imgs, df_validation['label'], batch_size=30)\n",
    "# test_generator = test_datagen.flow(test_imgs, test_labels_enc, batch_size=30)"
   ]
  },
  {
   "cell_type": "markdown",
   "metadata": {},
   "source": [
    "## Models"
   ]
  },
  {
   "cell_type": "markdown",
   "metadata": {},
   "source": [
    "### Resnext"
   ]
  },
  {
   "cell_type": "code",
   "execution_count": 14,
   "metadata": {},
   "outputs": [],
   "source": [
    "from keras.models import Model\n",
    "ResNeXt50, preprocess_input = Classifiers.get('resnext50')\n",
    "resnext = ResNeXt50(include_top = False, input_shape=(IMG_HEIGHT,IMG_WIDTH,3), weights='imagenet')\n",
    "output = resnext.layers[-1].output\n",
    "output = keras.layers.Flatten()(output)\n",
    "\n",
    "resnext = Model(inputs=resnext.input, outputs=output)\n",
    "for layer in resnext.layers:\n",
    "    layer.trainable = False"
   ]
  },
  {
   "cell_type": "markdown",
   "metadata": {},
   "source": [
    "### Resnet"
   ]
  },
  {
   "cell_type": "code",
   "execution_count": 40,
   "metadata": {},
   "outputs": [],
   "source": [
    "import keras\n",
    "from keras.models import Model\n",
    "from tensorflow.keras.applications.resnet50 import ResNet50\n",
    "\n",
    "resnet = ResNet50(include_top=False, weights='imagenet', input_shape=(IMG_HEIGHT,IMG_WIDTH,3))\n",
    "\n",
    "output = resnet.layers[-1].output\n",
    "output = keras.layers.Flatten()(output)\n",
    "\n",
    "resnet = Model(inputs=resnet.input, outputs=output)\n",
    "for layer in resnet.layers:\n",
    "    layer.trainable = False\n",
    "# resnet.summary()"
   ]
  },
  {
   "cell_type": "markdown",
   "metadata": {},
   "source": [
    "### DenseNet-121"
   ]
  },
  {
   "cell_type": "code",
   "execution_count": 10,
   "metadata": {},
   "outputs": [],
   "source": [
    "import keras\n",
    "from keras.models import Model\n",
    "from tensorflow.keras.applications.densenet import DenseNet121\n",
    "\n",
    "denseNet121 = DenseNet121(include_top=False, weights='imagenet', input_shape=(IMG_HEIGHT,IMG_WIDTH,3))\n",
    "\n",
    "for layer in denseNet121.layers:\n",
    "    layer.trainable = False\n",
    "\n",
    "denseNet121 = Model(inputs=denseNet121.input, outputs=keras.layers.Flatten()(denseNet121.layers[-1].output))"
   ]
  },
  {
   "cell_type": "markdown",
   "metadata": {},
   "source": [
    "### VGG-19"
   ]
  },
  {
   "cell_type": "code",
   "execution_count": 39,
   "metadata": {},
   "outputs": [],
   "source": [
    "import keras\n",
    "from keras.models import Model\n",
    "from tensorflow.keras.applications.vgg19 import VGG19\n",
    "\n",
    "vgg19 = VGG19(include_top=False, weights='imagenet', input_shape=(IMG_HEIGHT,IMG_WIDTH,3))\n",
    "\n",
    "for layer in vgg19.layers:\n",
    "    layer.trainable = False\n",
    "\n",
    "vgg19 = Model(inputs=vgg19.input, outputs=keras.layers.Flatten()(vgg19.layers[-1].output))\n",
    "# model.summary()\n"
   ]
  },
  {
   "cell_type": "markdown",
   "metadata": {},
   "source": [
    "### VGG-16"
   ]
  },
  {
   "cell_type": "code",
   "execution_count": 51,
   "metadata": {},
   "outputs": [],
   "source": [
    "from tensorflow.keras.applications.vgg16 import VGG16\n",
    "from tensorflow.keras.applications.vgg16 import preprocess_input\n",
    "\n",
    "## Loading VGG16 model\n",
    "vgg16 = VGG16(weights=\"imagenet\", include_top=False, input_shape=(IMG_HEIGHT,IMG_WIDTH,3))\n",
    "vgg16.trainable = False ## Not trainable weights\n",
    "\n",
    "vgg16 = Model(inputs=vgg16.input, outputs=keras.layers.Flatten()(vgg16.layers[-1].output))"
   ]
  },
  {
   "cell_type": "markdown",
   "metadata": {},
   "source": [
    "### Inception"
   ]
  },
  {
   "cell_type": "code",
   "execution_count": 13,
   "metadata": {},
   "outputs": [],
   "source": [
    "from tensorflow.keras.applications import InceptionV3\n",
    "\n",
    "## Loading VGG16 model\n",
    "inceptionv3 = InceptionV3(weights=\"imagenet\", include_top=False, input_shape=(IMG_HEIGHT,IMG_WIDTH,3))\n",
    "inceptionv3.trainable = False # Not trainable weights\n",
    "\n",
    "inceptionv3 = Model(inputs=inceptionv3.input, outputs=keras.layers.Flatten()(inceptionv3.layers[-1].output))"
   ]
  },
  {
   "cell_type": "markdown",
   "metadata": {},
   "source": [
    "## Compile Model"
   ]
  },
  {
   "cell_type": "code",
   "execution_count": 52,
   "metadata": {},
   "outputs": [
    {
     "name": "stdout",
     "output_type": "stream",
     "text": [
      "Model: \"sequential_2\"\n",
      "_________________________________________________________________\n",
      "Layer (type)                 Output Shape              Param #   \n",
      "=================================================================\n",
      "functional_9 (Functional)    (None, 41472)             14714688  \n",
      "_________________________________________________________________\n",
      "dense_6 (Dense)              (None, 512)               21234176  \n",
      "_________________________________________________________________\n",
      "dropout_4 (Dropout)          (None, 512)               0         \n",
      "_________________________________________________________________\n",
      "dense_7 (Dense)              (None, 512)               262656    \n",
      "_________________________________________________________________\n",
      "dropout_5 (Dropout)          (None, 512)               0         \n",
      "_________________________________________________________________\n",
      "dense_8 (Dense)              (None, 1)                 513       \n",
      "=================================================================\n",
      "Total params: 36,212,033\n",
      "Trainable params: 21,497,345\n",
      "Non-trainable params: 14,714,688\n",
      "_________________________________________________________________\n"
     ]
    }
   ],
   "source": [
    "from keras.layers import Conv2D, MaxPooling2D, Flatten, Dense, Dropout, InputLayer\n",
    "from keras.models import Sequential\n",
    "from tensorflow.keras import optimizers\n",
    "\n",
    "model = Sequential()\n",
    "# model.add(resnet)\n",
    "model.add(vgg16)\n",
    "# model.add(vgg19)\n",
    "# model.add(denseNet121)\n",
    "# model.add(resnext)\n",
    "# model.add(inceptionv3)\n",
    "\n",
    "model.add(Dense(512, activation='relu', input_dim=(IMG_HEIGHT,IMG_WIDTH,3)))\n",
    "model.add(Dropout(0.3))\n",
    "model.add(Dense(512, activation='relu'))\n",
    "model.add(Dropout(0.3))\n",
    "model.add(Dense(1, activation='sigmoid'))\n",
    "\n",
    "model.compile(loss='binary_crossentropy',\n",
    "              optimizer=optimizers.RMSprop(learning_rate=2e-5),\n",
    "              metrics=['accuracy'])\n",
    "model.summary()"
   ]
  },
  {
   "cell_type": "code",
   "execution_count": 53,
   "metadata": {},
   "outputs": [
    {
     "name": "stdout",
     "output_type": "stream",
     "text": [
      "Epoch 1/7\n",
      "59/59 [==============================] - 474s 8s/step - loss: 0.7205 - accuracy: 0.5328 - val_loss: 0.6470 - val_accuracy: 0.6264\n",
      "Epoch 2/7\n",
      "59/59 [==============================] - 457s 8s/step - loss: 0.6825 - accuracy: 0.5863 - val_loss: 0.6237 - val_accuracy: 0.6560\n",
      "Epoch 3/7\n",
      "59/59 [==============================] - 495s 8s/step - loss: 0.6709 - accuracy: 0.5966 - val_loss: 0.6307 - val_accuracy: 0.6424\n",
      "Epoch 4/7\n",
      "59/59 [==============================] - 468s 8s/step - loss: 0.6538 - accuracy: 0.6142 - val_loss: 0.5930 - val_accuracy: 0.7107\n",
      "Epoch 5/7\n",
      "59/59 [==============================] - 467s 8s/step - loss: 0.6485 - accuracy: 0.6319 - val_loss: 0.5858 - val_accuracy: 0.7084\n",
      "Epoch 6/7\n",
      "59/59 [==============================] - 456s 8s/step - loss: 0.6496 - accuracy: 0.6154 - val_loss: 0.5753 - val_accuracy: 0.7312\n",
      "Epoch 7/7\n",
      "59/59 [==============================] - 455s 8s/step - loss: 0.6168 - accuracy: 0.6519 - val_loss: 0.5723 - val_accuracy: 0.7107\n"
     ]
    }
   ],
   "source": [
    "from keras import callbacks\n",
    "earlystopping = callbacks.EarlyStopping(monitor =\"val_loss\", \n",
    "                                        mode =\"min\", patience = 5, \n",
    "                                        restore_best_weights = True)\n",
    "#batchsize30 stepsperepoch20\n",
    "\n",
    "history = model.fit(train_generator, \n",
    "                              epochs=7,\n",
    "                              validation_data=val_generator,\n",
    "                              verbose=1,\n",
    "                    callbacks =[earlystopping])"
   ]
  },
  {
   "cell_type": "code",
   "execution_count": 46,
   "metadata": {},
   "outputs": [],
   "source": [
    "model.save('D:\\deepfake_detection\\datasets\\\\VGG16\\\\VGG16-acc-49.h5', save_format='h5')"
   ]
  },
  {
   "cell_type": "markdown",
   "metadata": {},
   "source": [
    "## Graphs"
   ]
  },
  {
   "cell_type": "code",
   "execution_count": 50,
   "metadata": {},
   "outputs": [
    {
     "data": {
      "image/png": "[encoded data removed]",
      "text/plain": [
       "<Figure size 432x288 with 1 Axes>"
      ]
     },
     "metadata": {
      "needs_background": "light"
     },
     "output_type": "display_data"
    }
   ],
   "source": [
    "# Get training and test loss histories\n",
    "training_loss = history.history['accuracy']\n",
    "test_loss = history.history['val_accuracy']\n",
    "\n",
    "# Create count of the number of epochs\n",
    "epoch_count = range(1, len(training_loss) + 1)\n",
    "\n",
    "# Visualize loss history\n",
    "plt.plot(epoch_count, training_loss, 'r--')\n",
    "plt.plot(epoch_count, test_loss, 'b-')\n",
    "plt.legend(['Training Loss', 'Test Loss'])\n",
    "plt.xlabel('Epoch')\n",
    "plt.ylabel('Loss')\n",
    "plt.show();"
   ]
  },
  {
   "cell_type": "code",
   "execution_count": null,
   "metadata": {},
   "outputs": [],
   "source": []
  }
 ],
 "metadata": {
  "interpreter": {
   "hash": "5a85761c394acaf25a3ae1ee0d13ef2069be37c77fad2516d7ce72af50657ab6"
  },
  "kernelspec": {
   "display_name": "data_sci",
   "language": "python",
   "name": "data_sci"
  },
  "language_info": {
   "codemirror_mode": {
    "name": "ipython",
    "version": 3
   },
   "file_extension": ".py",
   "mimetype": "text/x-python",
   "name": "python",
   "nbconvert_exporter": "python",
   "pygments_lexer": "ipython3",
   "version": "3.8.11"
  },
  "orig_nbformat": 4
 },
 "nbformat": 4,
 "nbformat_minor": 2
}
